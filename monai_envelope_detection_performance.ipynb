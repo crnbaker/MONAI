{
  "nbformat": 4,
  "nbformat_minor": 0,
  "metadata": {
    "colab": {
      "name": "pytorch_hlibert_comparison.ipynb",
      "provenance": [],
      "collapsed_sections": [],
      "mount_file_id": "1XQUJEBwOgXG9BqiwszQm1JgrLIx7p2_q",
      "authorship_tag": "ABX9TyM/OD82SyUnn77MDlkcp0d2",
      "include_colab_link": true
    },
    "kernelspec": {
      "name": "python3",
      "display_name": "Python 3"
    },
    "accelerator": "GPU"
  },
  "cells": [
    {
      "cell_type": "markdown",
      "metadata": {
        "id": "view-in-github",
        "colab_type": "text"
      },
      "source": [
        "<a href=\"https://colab.research.google.com/github/crnbaker/MONAI/blob/hilbert-performance/monai_envelope_detection_performance.ipynb\" target=\"_parent\"><img src=\"https://colab.research.google.com/assets/colab-badge.svg\" alt=\"Open In Colab\"/></a>"
      ]
    },
    {
      "cell_type": "markdown",
      "metadata": {
        "id": "zQXamYWwJPUh"
      },
      "source": [
        "Run this cell to create timing functions"
      ]
    },
    {
      "cell_type": "code",
      "metadata": {
        "id": "o6Y1vBIGJJ3g"
      },
      "source": [
        "import torch\n",
        "import time\n",
        "import numpy as np\n",
        "\n",
        "\n",
        "class Timer:\n",
        "    def __init__(self, n_iterations, cuda=True):\n",
        "        self.n_iterations = n_iterations\n",
        "        self.cuda = cuda\n",
        "        self.timings = []\n",
        "\n",
        "    def time(self, func):\n",
        "        def timed(*args):\n",
        "            for n in range(self.n_iterations):\n",
        "                if self.cuda:\n",
        "                    t1 = torch.cuda.Event(enable_timing=True)\n",
        "                    t2 = torch.cuda.Event(enable_timing=True)\n",
        "                    t1.record()\n",
        "                else:\n",
        "                    t1 = time.time()\n",
        "\n",
        "                result = func(*args)\n",
        "\n",
        "                if self.cuda:\n",
        "                    t2.record()\n",
        "                    torch.cuda.synchronize()\n",
        "                    elapsed = t1.elapsed_time(t2)\n",
        "                else:\n",
        "                    elapsed = (time.time() - t1) * 1e3\n",
        "                self.timings.append(elapsed)\n",
        "            return result\n",
        "        return timed\n",
        "\n",
        "\n",
        "class ParameterSweeper:\n",
        "    def __init__(self, n_iterations, cuda=True):\n",
        "        self.timings = []\n",
        "        self.cuda = cuda\n",
        "        self.n_iterations = n_iterations\n",
        "\n",
        "    def sweep(self, func):\n",
        "        def swept(*arglists):\n",
        "            # Check same number of each argument\n",
        "            if len(set([len(arglist) for arglist in arglists])) > 1:\n",
        "                raise ValueError('Same number of each argument must be provided to ParameterScanner')\n",
        "            N_test_value_sets = len(arglists[0])\n",
        "            N_arguments = len(arglists)\n",
        "            results = []\n",
        "\n",
        "            for n in range(N_test_value_sets):\n",
        "                timer = Timer(self.n_iterations, self.cuda)\n",
        "                args = [arglists[i][n] for i in range(N_arguments)]\n",
        "                results.append(timer.time(func)(*args))\n",
        "                self.timings.append(np.min(timer.timings))\n",
        "            return results\n",
        "        return swept\n"
      ],
      "execution_count": 15,
      "outputs": []
    },
    {
      "cell_type": "markdown",
      "metadata": {
        "id": "mPcv70v6SOXk"
      },
      "source": [
        "Run this cell to install MONAI from the feature branch"
      ]
    },
    {
      "cell_type": "code",
      "metadata": {
        "colab": {
          "base_uri": "https://localhost:8080/"
        },
        "id": "Dx-IgudIKqdj",
        "outputId": "99e30604-5709-4401-db42-4b41016c89a2"
      },
      "source": [
        "!pip install pip install git+https://github.com/crnbaker/MONAI.git@1210-hilbert-transform"
      ],
      "execution_count": 2,
      "outputs": [
        {
          "output_type": "stream",
          "text": [
            "Collecting git+https://github.com/crnbaker/MONAI.git@1210-hilbert-transform\n",
            "  Cloning https://github.com/crnbaker/MONAI.git (to revision 1210-hilbert-transform) to /tmp/pip-req-build-_w1uov03\n",
            "  Running command git clone -q https://github.com/crnbaker/MONAI.git /tmp/pip-req-build-_w1uov03\n",
            "  Running command git checkout -b 1210-hilbert-transform --track origin/1210-hilbert-transform\n",
            "  Switched to a new branch '1210-hilbert-transform'\n",
            "  Branch '1210-hilbert-transform' set up to track remote branch '1210-hilbert-transform' from 'origin'.\n",
            "  Installing build dependencies ... \u001b[?25l\u001b[?25hdone\n",
            "  Getting requirements to build wheel ... \u001b[?25l\u001b[?25hdone\n",
            "    Preparing wheel metadata ... \u001b[?25l\u001b[?25hdone\n",
            "Requirement already satisfied: pip in /usr/local/lib/python3.6/dist-packages (19.3.1)\n",
            "Collecting install\n",
            "  Downloading https://files.pythonhosted.org/packages/f0/a5/fd2eb807a9a593869ee8b7a6bcb4ad84a6eb31cef5c24d1bfbf7c938c13f/install-1.3.4-py3-none-any.whl\n",
            "Requirement already satisfied: torch>=1.5 in /usr/local/lib/python3.6/dist-packages (from monai==0.3.0+90.g026b0fe) (1.7.0+cu101)\n",
            "Requirement already satisfied: numpy>=1.17 in /usr/local/lib/python3.6/dist-packages (from monai==0.3.0+90.g026b0fe) (1.18.5)\n",
            "Requirement already satisfied: future in /usr/local/lib/python3.6/dist-packages (from torch>=1.5->monai==0.3.0+90.g026b0fe) (0.16.0)\n",
            "Requirement already satisfied: typing-extensions in /usr/local/lib/python3.6/dist-packages (from torch>=1.5->monai==0.3.0+90.g026b0fe) (3.7.4.3)\n",
            "Requirement already satisfied: dataclasses in /usr/local/lib/python3.6/dist-packages (from torch>=1.5->monai==0.3.0+90.g026b0fe) (0.8)\n",
            "Building wheels for collected packages: monai\n",
            "  Building wheel for monai (PEP 517) ... \u001b[?25l\u001b[?25hdone\n",
            "  Created wheel for monai: filename=monai-0.3.0+90.g026b0fe-cp36-none-any.whl size=328565 sha256=544842a25ae65947e381ee9a867ea8fb0b045f3e293e26cb3c4dab142b1c0b7e\n",
            "  Stored in directory: /tmp/pip-ephem-wheel-cache-ds5swqsn/wheels/a1/c4/a8/9c3f88b7071b17f05ee3b290a07c8f4661b11321642053988e\n",
            "Successfully built monai\n",
            "Installing collected packages: install, monai\n",
            "Successfully installed install-1.3.4 monai-0.3.0+90.g026b0fe\n"
          ],
          "name": "stdout"
        }
      ]
    },
    {
      "cell_type": "markdown",
      "metadata": {
        "id": "jwEi6hkbSRTz"
      },
      "source": [
        "Run this cell to import dependencies"
      ]
    },
    {
      "cell_type": "code",
      "metadata": {
        "id": "MGmv-dUiMgU6"
      },
      "source": [
        "from monai.transforms import DetectEnvelope\n",
        "from monai.networks.layers import HilbertTransform\n",
        "import matplotlib.pyplot as plt\n",
        "import torch\n",
        "import numpy as np\n",
        "import scipy.signal as sig"
      ],
      "execution_count": 17,
      "outputs": []
    },
    {
      "cell_type": "markdown",
      "metadata": {
        "id": "TXCPW4dOST36"
      },
      "source": [
        "Run this cell to test the performance of the new MONAI Hilbert Transform and Envelope Detection features on the GPU and CPU, compared to SciPy."
      ]
    },
    {
      "cell_type": "code",
      "metadata": {
        "colab": {
          "base_uri": "https://localhost:8080/",
          "height": 283
        },
        "id": "Mb0a2qU8c5sb",
        "outputId": "3af01ee9-93fe-432e-ff32-efe7ab16a9ac"
      },
      "source": [
        "# Simple function to create a simulate ultrasound pulse\n",
        "def us_pulse(f, d, fs):\n",
        "\n",
        "    t = np.linspace(0, d, int(np.floor(d * fs)))\n",
        "    w1 = sig.hann(len(t))\n",
        "    w2 = np.linspace(1.0, 0.0, len(t)) ** 6.0\n",
        "    x = np.sin(2 * np.pi * f * t) * w1 * w2\n",
        "\n",
        "    return t, x\n",
        "\n",
        "# Number of times to repeat test for each input array size (minimum time taken will be recorded)\n",
        "n_iterations = 5\n",
        "# Sample rate used to create ultrasound pulse\n",
        "fs = 10e6\n",
        "# Number of signals to stack up into a 2D array for each test input\n",
        "n_sigs_per_test = 50\n",
        "\n",
        "plt.figure()\n",
        "device = torch.device('cuda')\n",
        "\n",
        "# Signal lengths to test (powers of two)\n",
        "signal_lengths = [2 ** (x + 2) for x in range(17)]\n",
        "\n",
        "# Create test data sets (2D stacks of simulated ultrasound signals)\n",
        "numpy_2D_test_signals = [np.stack(\n",
        "    [us_pulse(3.2e6, sl / fs, fs)[1] * a for a in range(n_sigs_per_test)]\n",
        ") for sl in signal_lengths]\n",
        "\n",
        "torch_2D_test_signals = [torch.as_tensor(np.ascontiguousarray(np.stack(\n",
        "    [us_pulse(3.2e6, sl / fs, fs)[1] * a for a in range(n_sigs_per_test)]\n",
        ")), device=device).unsqueeze(0) for sl in signal_lengths]\n",
        "\n",
        "# Run parameter sweep on Scipy function using Numpy arrays\n",
        "sweeper_scipy = ParameterSweeper(n_iterations, cuda=False)\n",
        "results = sweeper_scipy.sweep(sig.hilbert)(\n",
        "    numpy_2D_test_signals,\n",
        "    [None] * len(numpy_2D_test_signals),\n",
        "    [0] * len(numpy_2D_test_signals)\n",
        ")\n",
        "plt.loglog(np.array(signal_lengths) * 50, sweeper_scipy.timings, 'kx-', label='SciPy')\n",
        "\n",
        "# Run parameter sweep on MONAI transform using Numpy arrays\n",
        "sweeper_monai_cpu = ParameterSweeper(n_iterations, cuda=False)\n",
        "results = sweeper_monai_cpu.sweep(DetectEnvelope(axis=0))(\n",
        "    numpy_2D_test_signals\n",
        ")\n",
        "plt.loglog(\n",
        "    np.array(signal_lengths) * n_sigs_per_test,\n",
        "    sweeper_monai_cpu.timings, 'kx--',\n",
        "    label='MONAI CPU'\n",
        "    )\n",
        "\n",
        "# Run parameter sweep on MONAI layer using PyTorch Tensors (on CUDA)\n",
        "sweeper_monai_gpu = ParameterSweeper(n_iterations, cuda=True)\n",
        "results = sweeper_monai_gpu.sweep(HilbertTransform())(\n",
        "    torch_2D_test_signals,\n",
        ")\n",
        "plt.loglog(\n",
        "    np.array(signal_lengths) * n_sigs_per_test,\n",
        "    sweeper_monai_gpu.timings,\n",
        "    'kx:', label='MONAI GPU'\n",
        "    )\n",
        "\n",
        "plt.xlabel('Tensor size')\n",
        "plt.ylabel('Time per operation (ms)')\n",
        "plt.legend()\n",
        "plt.show()"
      ],
      "execution_count": 20,
      "outputs": [
        {
          "output_type": "display_data",
          "data": {
            "image/png": "[encoded data removed]",
            "text/plain": [
              "<Figure size 432x288 with 1 Axes>"
            ]
          },
          "metadata": {
            "tags": [],
            "needs_background": "light"
          }
        }
      ]
    },
    {
      "cell_type": "markdown",
      "metadata": {
        "id": "D-zZsygCJYIg"
      },
      "source": [
        ""
      ]
    },
    {
      "cell_type": "code",
      "metadata": {
        "colab": {
          "base_uri": "https://localhost:8080/",
          "height": 300
        },
        "id": "Y4lS-jnLDG6z",
        "outputId": "68b1e41e-af5f-4397-8ec0-7ab460c10311"
      },
      "source": [
        "import matplotlib.pyplot as plt\n",
        "import torch\n",
        "import numpy as np\n",
        "import scipy.signal as sig\n",
        "\n",
        "# Set torch device to GPU\n",
        "device = torch.device('cuda')\n",
        "\n",
        "# Number of times to run operation at each point of the sweep.\n",
        "# Fastest time is recorded.\n",
        "n_iterations = 10\n",
        "\n",
        "# Signal lengths (samples) to scan (powers of 2)\n",
        "signal_lengths = [2 ** (x + 2) for x in range(12)]\n",
        "fs = 10e6 # sample rate (Hz)\n",
        "\n",
        "# Create set of test signals (Numpy arrays)\n",
        "np_test_signals = [\n",
        "                cb_hilbert.us_pulse(3.2e6, sl / fs, fs)[1]\n",
        "                for sl in signal_lengths\n",
        "                ]\n",
        "\n",
        "# Create set of test signals (PyTorch Tensors on GPU)\n",
        "torch_test_signals = [\n",
        "                torch.as_tensor(np.ascontiguousarray(\n",
        "                        cb_hilbert.us_pulse(3.2e6, sl / fs, fs)[1]\n",
        "                        ), device=device)\n",
        "                for sl in signal_lengths\n",
        "                ]\n",
        "\n",
        "# Run parameter sweep on Scipy function using Numpy arrays\n",
        "sweeper = cb_timing.ParameterSweeper(n_iterations, cuda=False)\n",
        "results = sweeper.sweep(sig.hilbert)(np_test_signals)\n",
        "plt.loglog(signal_lengths, sweeper.timings, 'kx-', label='SciPy')\n",
        "\n",
        "# Run parameter sweep on PyTorch frequency domain hilbert using Tensors\n",
        "sweeper = cb_timing.ParameterSweeper(n_iterations, cuda=True)\n",
        "results = sweeper.sweep(cb_hilbert.torch_hilbert_f_domain)(torch_test_signals)\n",
        "plt.loglog(signal_lengths, sweeper.timings, 'kx--', label='PyTorch Freq')\n",
        "\n",
        "# Run parameter sweep on PyTorch frequency domain hilbert using Tensors\n",
        "sweeper = cb_timing.ParameterSweeper(n_iterations, cuda=False)\n",
        "results = sweeper.sweep(cb_hilbert.numpy_hilbert_t_domain)(np_test_signals)\n",
        "plt.loglog(signal_lengths, sweeper.timings, 'rx-', label='Numpy Time')\n",
        "\n",
        "# Run parameter sweep in PyTorch time comain hilbert using Tensors\n",
        "sweeper = cb_timing.ParameterSweeper(n_iterations, cuda=True)\n",
        "ht_objects = [cb_hilbert.TorchHilbertTimeDomain(signal) for signal in torch_test_signals]\n",
        "execution_func = lambda ht_obj: ht_obj.execute()\n",
        "sweeper.sweep(execution_func)(ht_objects)\n",
        "plt.loglog(signal_lengths, sweeper.timings, 'rx--', label='PyTorch Time')\n",
        "\n",
        "plt.xlabel('Number of samples')\n",
        "plt.ylabel('Time per operation (ms)')\n",
        "plt.legend()\n"
      ],
      "execution_count": null,
      "outputs": [
        {
          "output_type": "execute_result",
          "data": {
            "text/plain": [
              "<matplotlib.legend.Legend at 0x7f29d49db2b0>"
            ]
          },
          "metadata": {
            "tags": []
          },
          "execution_count": 3
        },
        {
          "output_type": "display_data",
          "data": {
            "image/png": "[encoded data removed]",
            "text/plain": [
              "<Figure size 432x288 with 1 Axes>"
            ]
          },
          "metadata": {
            "tags": [],
            "needs_background": "light"
          }
        }
      ]
    },
    {
      "cell_type": "markdown",
      "metadata": {
        "id": "empkgOhweV2c"
      },
      "source": [
        ""
      ]
    },
    {
      "cell_type": "code",
      "metadata": {
        "colab": {
          "base_uri": "https://localhost:8080/",
          "height": 300
        },
        "id": "RJHGs9XsdWEX",
        "outputId": "288e72ff-e483-4ae8-a1d9-94d294bfaaa0"
      },
      "source": [
        "plt.semilogx(np.array(signal_lengths) * 50, np.array(sweeper5.timings) / np.array(sweeper6.timings))\n",
        "plt.hlines(1, 0, 10**8, linestyles='--')\n",
        "plt.ylabel('Speed increase factor')\n",
        "plt.xlabel('Tensor size')"
      ],
      "execution_count": null,
      "outputs": [
        {
          "output_type": "execute_result",
          "data": {
            "text/plain": [
              "Text(0.5, 0, 'Tensor size')"
            ]
          },
          "metadata": {
            "tags": []
          },
          "execution_count": 8
        },
        {
          "output_type": "display_data",
          "data": {
            "image/png": "[encoded data removed]",
            "text/plain": [
              "<Figure size 432x288 with 1 Axes>"
            ]
          },
          "metadata": {
            "tags": [],
            "needs_background": "light"
          }
        }
      ]
    }
  ]
}